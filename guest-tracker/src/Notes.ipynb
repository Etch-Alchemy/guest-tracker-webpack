{
 "cells": [
  {
   "cell_type": "markdown",
   "id": "810889d3",
   "metadata": {
    "vscode": {
     "languageId": "html"
    }
   },
   "source": [
    "- [ ] Figure out a better arrangement for filters (side by side?)  \n",
    "- [ ] Fix issue with add row creating multiple  \n"
   ]
  }
 ],
 "metadata": {
  "language_info": {
   "name": "python"
  }
 },
 "nbformat": 4,
 "nbformat_minor": 5
}
